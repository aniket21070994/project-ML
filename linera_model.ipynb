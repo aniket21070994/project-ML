{
  "nbformat": 4,
  "nbformat_minor": 0,
  "metadata": {
    "colab": {
      "private_outputs": true,
      "provenance": [],
      "mount_file_id": "1K6bJC3UjN9n2Ql5s6rjlWMldrkPA5PSj",
      "authorship_tag": "ABX9TyOfMD2MBkvpSG0n4AslnMXK",
      "include_colab_link": true
    },
    "kernelspec": {
      "name": "python3",
      "display_name": "Python 3"
    },
    "language_info": {
      "name": "python"
    }
  },
  "cells": [
    {
      "cell_type": "markdown",
      "metadata": {
        "id": "view-in-github",
        "colab_type": "text"
      },
      "source": [
        "<a href=\"https://colab.research.google.com/github/aniket21070994/project-ML/blob/main/linera_model.ipynb\" target=\"_parent\"><img src=\"https://colab.research.google.com/assets/colab-badge.svg\" alt=\"Open In Colab\"/></a>"
      ]
    },
    {
      "cell_type": "code",
      "execution_count": null,
      "metadata": {
        "id": "Db_gfts_d24v"
      },
      "outputs": [],
      "source": [
        "#data set path= /content/drive/MyDrive/ML model/AI Level 2/Regression/student_marks.csv"
      ]
    },
    {
      "cell_type": "code",
      "source": [
        "import pandas as pd\n",
        "import numpy as np\n",
        "import sklearn as sk\n",
        "import sklearn.linear_model as lm\n",
        "import pickle as pk"
      ],
      "metadata": {
        "id": "dPtqalUAjwET"
      },
      "execution_count": null,
      "outputs": []
    },
    {
      "cell_type": "code",
      "source": [
        "data =pd.read_csv(\"/content/drive/MyDrive/ML model/AI Level 2/Regression/student_marks.csv\")"
      ],
      "metadata": {
        "id": "JjVpRYxKkGTR"
      },
      "execution_count": null,
      "outputs": []
    },
    {
      "cell_type": "code",
      "source": [
        "data.head()"
      ],
      "metadata": {
        "id": "Pat_FwwIkKvY"
      },
      "execution_count": null,
      "outputs": []
    },
    {
      "cell_type": "code",
      "source": [
        "X_data=data.drop(\"final\",axis=1)\n",
        "Y_data=data[\"final\"]"
      ],
      "metadata": {
        "id": "P7ocSmKFkMI6"
      },
      "execution_count": null,
      "outputs": []
    },
    {
      "cell_type": "code",
      "source": [
        "X_train,X_test,Y_train,Y_test=sk.model_selection.train_test_split(X_data,Y_data,test_size=0.2)"
      ],
      "metadata": {
        "id": "Bba2Dt4akYvN"
      },
      "execution_count": null,
      "outputs": []
    },
    {
      "cell_type": "code",
      "source": [
        "model=lm.LinearRegression()\n",
        "model.fit(X_train,Y_train)"
      ],
      "metadata": {
        "id": "8pPElauwkpu2"
      },
      "execution_count": null,
      "outputs": []
    },
    {
      "cell_type": "code",
      "source": [
        "model.score(X_test,Y_test)"
      ],
      "metadata": {
        "id": "_Yg2iK0GkxUF"
      },
      "execution_count": null,
      "outputs": []
    },
    {
      "cell_type": "code",
      "source": [
        "pk.dump(model,open(\"/content/drive/MyDrive/ML model/AI Level 2/Regression/model.pkl\",\"wb\"))"
      ],
      "metadata": {
        "id": "lxtjQX5hkzTJ"
      },
      "execution_count": null,
      "outputs": []
    },
    {
      "cell_type": "code",
      "source": [
        "model=pk.load(open(\"/content/drive/MyDrive/ML model/AI Level 2/Regression/model.pkl\",\"rb\"))"
      ],
      "metadata": {
        "id": "kA8kuX_dlEOt"
      },
      "execution_count": null,
      "outputs": []
    },
    {
      "cell_type": "code",
      "source": [],
      "metadata": {
        "id": "IJlVKtmvlSTc"
      },
      "execution_count": null,
      "outputs": []
    },
    {
      "cell_type": "code",
      "source": [
        "# Take input from the user\n",
        "studytime = int(input(\"Enter study time (e.g., 2): \"))\n",
        "absences = int(input(\"Enter number of absences (e.g., 5): \"))\n",
        "failures = int(input(\"Enter number of failures (e.g., 0): \"))\n",
        "assignments = int(input(\"Enter number of assignments completed (e.g., 10): \"))\n",
        "midterm = int(input(\"Enter mid-term mark (e.g., 12): \"))\n",
        "\n",
        "\n",
        "# Define input values\n",
        "input_data = {\n",
        "    'studytime': [studytime],\n",
        "    'absences': [absences],\n",
        "    'failures': [failures],\n",
        "    'assignments': [assignments],\n",
        "    'mid-term': [midterm]\n",
        "}\n",
        "\n",
        "# Create a DataFrame\n",
        "input_df = pd.DataFrame(input_data)\n",
        "\n",
        "# Predict the final mark\n",
        "predicted_final_mark = model.predict(input_df)\n",
        "\n",
        "# Display the prediction\n",
        "print(f\"The predicted final mark is: {predicted_final_mark[0]:.2f}\")"
      ],
      "metadata": {
        "id": "b7KdQQW_mO_u"
      },
      "execution_count": null,
      "outputs": []
    }
  ]
}
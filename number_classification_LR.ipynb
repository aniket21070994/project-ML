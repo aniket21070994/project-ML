{
  "nbformat": 4,
  "nbformat_minor": 0,
  "metadata": {
    "colab": {
      "private_outputs": true,
      "provenance": [],
      "mount_file_id": "1v-S58FOYfE8ax52yJsURS3PVBtbKFGfV",
      "authorship_tag": "ABX9TyNOC98wuwngSNR2L8HRyno9",
      "include_colab_link": true
    },
    "kernelspec": {
      "name": "python3",
      "display_name": "Python 3"
    },
    "language_info": {
      "name": "python"
    }
  },
  "cells": [
    {
      "cell_type": "markdown",
      "metadata": {
        "id": "view-in-github",
        "colab_type": "text"
      },
      "source": [
        "<a href=\"https://colab.research.google.com/github/aniket21070994/project-ML/blob/main/number_classification_LR.ipynb\" target=\"_parent\"><img src=\"https://colab.research.google.com/assets/colab-badge.svg\" alt=\"Open In Colab\"/></a>"
      ]
    },
    {
      "cell_type": "code",
      "execution_count": null,
      "metadata": {
        "id": "zjY9-QVAfj-4"
      },
      "outputs": [],
      "source": [
        "import sklearn as sk\n",
        "from sklearn.datasets import fetch_openml\n",
        "import matplotlib.pyplot as plt\n",
        "import numpy as np\n",
        "import pickle as pk"
      ]
    },
    {
      "cell_type": "code",
      "source": [
        "data=fetch_openml('mnist_784')"
      ],
      "metadata": {
        "id": "W4tDFm0DgLbl"
      },
      "execution_count": null,
      "outputs": []
    },
    {
      "cell_type": "code",
      "source": [
        "X,Y=data['data'],data['target']\n",
        "X=X.to_numpy()\n",
        "Y=Y.to_numpy()"
      ],
      "metadata": {
        "id": "PEe1V4AZgN-9"
      },
      "execution_count": null,
      "outputs": []
    },
    {
      "cell_type": "code",
      "source": [
        "\n",
        "a=X[np.random.randint(0,len(X))].reshape(28,28)"
      ],
      "metadata": {
        "id": "BDPbHgJHi5uk"
      },
      "execution_count": null,
      "outputs": []
    },
    {
      "cell_type": "code",
      "source": [
        "plt.imshow(a,cmap='gray')"
      ],
      "metadata": {
        "id": "G1zKzeGBiXJd"
      },
      "execution_count": null,
      "outputs": []
    },
    {
      "cell_type": "code",
      "source": [
        "model=sk.linear_model.LogisticRegression()\n",
        "model.fit(X,Y)"
      ],
      "metadata": {
        "id": "IydnHhdNiYz7"
      },
      "execution_count": null,
      "outputs": []
    },
    {
      "cell_type": "code",
      "source": [
        "model.score(X,Y)"
      ],
      "metadata": {
        "id": "RViVMrOykHrz"
      },
      "execution_count": null,
      "outputs": []
    },
    {
      "cell_type": "code",
      "source": [
        "pk.dump(model,open('/content/drive/MyDrive/ML model/AI Level 2/classification/model.pkl','wb'))"
      ],
      "metadata": {
        "id": "iIWVBqW4kZrC"
      },
      "execution_count": null,
      "outputs": []
    },
    {
      "cell_type": "code",
      "source": [
        "model=pk.load(open('/content/drive/MyDrive/ML model/AI Level 2/classification/model.pkl','rb'))"
      ],
      "metadata": {
        "id": "vIQjtlaslPml"
      },
      "execution_count": null,
      "outputs": []
    },
    {
      "cell_type": "code",
      "source": [
        "# Flatten the image to a 1D array of 784 features\n",
        "i_flattened = i.reshape(1, -1)\n",
        "\n",
        "# Make a prediction using the loaded model\n",
        "prediction = model.predict(i_flattened)\n",
        "\n",
        "# Print the prediction\n",
        "print(f\"The predicted digit is: {prediction[0]}\")"
      ],
      "metadata": {
        "id": "L0ytS2VTln6g"
      },
      "execution_count": null,
      "outputs": []
    },
    {
      "cell_type": "code",
      "source": [
        "plt.imshow(i,cmap='gray')"
      ],
      "metadata": {
        "id": "tnvJ6zvels7k"
      },
      "execution_count": null,
      "outputs": []
    },
    {
      "cell_type": "code",
      "source": [],
      "metadata": {
        "id": "dIJEdiXhl8KY"
      },
      "execution_count": null,
      "outputs": []
    }
  ]
}